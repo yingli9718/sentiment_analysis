{
 "cells": [
  {
   "cell_type": "code",
   "execution_count": 162,
   "metadata": {},
   "outputs": [],
   "source": [
    "from apiclient.discovery import build\n",
    "from apiclient.errors import HttpError\n",
    "#from oauth2client.tools import argparser"
   ]
  },
  {
   "cell_type": "markdown",
   "metadata": {},
   "source": [
    "### Get the \"CNN\" Youtube Channel data"
   ]
  },
  {
   "cell_type": "code",
   "execution_count": 163,
   "metadata": {},
   "outputs": [],
   "source": [
    "youtube=build('youtube','v3',developerKey=DEVELOPER_KEY)\n",
    "# perform a youtube search by API calling and save the data in the list, and after execution, become a dictionary \n",
    "snippets = youtube.search().list(part=\"snippet\", type=\"channel\", q=\"CNN\").execute()"
   ]
  },
  {
   "cell_type": "code",
   "execution_count": 164,
   "metadata": {},
   "outputs": [
    {
     "data": {
      "text/plain": [
       "dict"
      ]
     },
     "execution_count": 164,
     "metadata": {},
     "output_type": "execute_result"
    }
   ],
   "source": [
    "type(snippets)"
   ]
  },
  {
   "cell_type": "code",
   "execution_count": 165,
   "metadata": {},
   "outputs": [
    {
     "name": "stdout",
     "output_type": "stream",
     "text": [
      "kind\n",
      "etag\n",
      "nextPageToken\n",
      "regionCode\n",
      "pageInfo\n",
      "items\n"
     ]
    }
   ],
   "source": [
    "for item in snippets:\n",
    "  print(item)"
   ]
  },
  {
   "cell_type": "code",
   "execution_count": 166,
   "metadata": {},
   "outputs": [
    {
     "name": "stdout",
     "output_type": "stream",
     "text": [
      "{'kind': 'youtube#searchResult', 'etag': 'OOj65awRCQ3JrV6xJvOVo-m7RQ8', 'id': {'kind': 'youtube#channel', 'channelId': 'UCupvZG-5ko_eiXAupbDfxWw'}, 'snippet': {'publishedAt': '2005-10-02T16:06:36Z', 'channelId': 'UCupvZG-5ko_eiXAupbDfxWw', 'title': 'CNN', 'description': 'CNN operates as a division of Turner Broadcasting System, which is a subsidiary of Warner Media. CNN identifies itself as -- and is widely known to be - the ...', 'thumbnails': {'default': {'url': 'https://yt3.ggpht.com/a/AATXAJxyGHIdj9W_xT_copwZI0USeFUpJcxwIdIR_t28=s88-c-k-c0xffffffff-no-rj-mo'}, 'medium': {'url': 'https://yt3.ggpht.com/a/AATXAJxyGHIdj9W_xT_copwZI0USeFUpJcxwIdIR_t28=s240-c-k-c0xffffffff-no-rj-mo'}, 'high': {'url': 'https://yt3.ggpht.com/a/AATXAJxyGHIdj9W_xT_copwZI0USeFUpJcxwIdIR_t28=s800-c-k-c0xffffffff-no-rj-mo'}}, 'channelTitle': 'CNN', 'liveBroadcastContent': 'upcoming', 'publishTime': '2005-10-02T16:06:36Z'}}\n",
      "{'kind': 'youtube#searchResult', 'etag': 'oM_hIMBHMMuk4STplfmZG_pZDfg', 'id': {'kind': 'youtube#channel', 'channelId': 'UCe-4xQosMQGkIA8mT4sR98Q'}, 'snippet': {'publishedAt': '2006-11-16T04:13:50Z', 'channelId': 'UCe-4xQosMQGkIA8mT4sR98Q', 'title': 'CNN Business', 'description': 'Welcome to CNN Business on YouTube. We cover the companies, personalities, and innovations that are driving business forward.', 'thumbnails': {'default': {'url': 'https://yt3.ggpht.com/a/AATXAJwdnneJLNmPVwy61VY76zEd0iKiph0BwnkLha1Ea88=s88-c-k-c0xffffffff-no-rj-mo'}, 'medium': {'url': 'https://yt3.ggpht.com/a/AATXAJwdnneJLNmPVwy61VY76zEd0iKiph0BwnkLha1Ea88=s240-c-k-c0xffffffff-no-rj-mo'}, 'high': {'url': 'https://yt3.ggpht.com/a/AATXAJwdnneJLNmPVwy61VY76zEd0iKiph0BwnkLha1Ea88=s800-c-k-c0xffffffff-no-rj-mo'}}, 'channelTitle': 'CNN Business', 'liveBroadcastContent': 'upcoming', 'publishTime': '2006-11-16T04:13:50Z'}}\n",
      "{'kind': 'youtube#searchResult', 'etag': '0yEtvypYpEum7-lv9Gd97eNCSx8', 'id': {'kind': 'youtube#channel', 'channelId': 'UCUNN9FPGI8wXH08TWwrXe9Q'}, 'snippet': {'publishedAt': '2018-04-06T10:47:48Z', 'channelId': 'UCUNN9FPGI8wXH08TWwrXe9Q', 'title': 'CNN', 'description': 'CNN channel tổng hợp nhiều video hài hước. Vui vẻ . Giúp bạn giải tri sau giờ làm việc mệt mõi Hãy giúp tôi đạt 1000 subrice.', 'thumbnails': {'default': {'url': 'https://yt3.ggpht.com/a/AATXAJwWpKI1-ZQolVJgqjtNAS3xukOukjlye-RC3F4=s88-c-k-c0xffffffff-no-rj-mo'}, 'medium': {'url': 'https://yt3.ggpht.com/a/AATXAJwWpKI1-ZQolVJgqjtNAS3xukOukjlye-RC3F4=s240-c-k-c0xffffffff-no-rj-mo'}, 'high': {'url': 'https://yt3.ggpht.com/a/AATXAJwWpKI1-ZQolVJgqjtNAS3xukOukjlye-RC3F4=s800-c-k-c0xffffffff-no-rj-mo'}}, 'channelTitle': 'CNN', 'liveBroadcastContent': 'none', 'publishTime': '2018-04-06T10:47:48Z'}}\n",
      "{'kind': 'youtube#searchResult', 'etag': 'J7h8UCVsjR-jXGqJ9594hshZXWw', 'id': {'kind': 'youtube#channel', 'channelId': 'UCj6spMO3ybZPobE0T5perHA'}, 'snippet': {'publishedAt': '2015-03-16T03:05:35Z', 'channelId': 'UCj6spMO3ybZPobE0T5perHA', 'title': 'CNN Philippines', 'description': 'CNN Philippines provides first-class news and information drawing on the strength and worldwide newsgathering power of CNN, and the local perspective and ...', 'thumbnails': {'default': {'url': 'https://yt3.ggpht.com/a/AATXAJx5shS9xLqHgHqBpNuFI9Js7ZSzn3_z7SkEsTLWfg=s88-c-k-c0xffffffff-no-rj-mo'}, 'medium': {'url': 'https://yt3.ggpht.com/a/AATXAJx5shS9xLqHgHqBpNuFI9Js7ZSzn3_z7SkEsTLWfg=s240-c-k-c0xffffffff-no-rj-mo'}, 'high': {'url': 'https://yt3.ggpht.com/a/AATXAJx5shS9xLqHgHqBpNuFI9Js7ZSzn3_z7SkEsTLWfg=s800-c-k-c0xffffffff-no-rj-mo'}}, 'channelTitle': 'CNN Philippines', 'liveBroadcastContent': 'upcoming', 'publishTime': '2015-03-16T03:05:35Z'}}\n",
      "{'kind': 'youtube#searchResult', 'etag': 'Rge_GjY8hcOpSHbytjFnrLmZ9I4', 'id': {'kind': 'youtube#channel', 'channelId': 'UCoVlg_SS46WYR-7ChWnjyag'}, 'snippet': {'publishedAt': '2019-12-09T17:26:29Z', 'channelId': 'UCoVlg_SS46WYR-7ChWnjyag', 'title': 'CNN', 'description': '', 'thumbnails': {'default': {'url': 'https://yt3.ggpht.com/a/AATXAJw9y1P0fulz0IWe-YsidXckXCOufDpbK6YuXWAF=s88-c-k-c0xffffffff-no-rj-mo'}, 'medium': {'url': 'https://yt3.ggpht.com/a/AATXAJw9y1P0fulz0IWe-YsidXckXCOufDpbK6YuXWAF=s240-c-k-c0xffffffff-no-rj-mo'}, 'high': {'url': 'https://yt3.ggpht.com/a/AATXAJw9y1P0fulz0IWe-YsidXckXCOufDpbK6YuXWAF=s800-c-k-c0xffffffff-no-rj-mo'}}, 'channelTitle': 'CNN', 'liveBroadcastContent': 'none', 'publishTime': '2019-12-09T17:26:29Z'}}\n"
     ]
    }
   ],
   "source": [
    "for i in snippets['items']:\n",
    "  print(i)"
   ]
  },
  {
   "cell_type": "code",
   "execution_count": 167,
   "metadata": {},
   "outputs": [
    {
     "name": "stdout",
     "output_type": "stream",
     "text": [
      "Channel ID of the first channel is UCupvZG-5ko_eiXAupbDfxWw\n"
     ]
    }
   ],
   "source": [
    "## Extract the \"channelId\" of the first channel in list\n",
    "\n",
    "channelId = snippets['items'][0]['snippet']['channelId']\n",
    "\n",
    "print(\"Channel ID of the first channel is \"+ channelId)"
   ]
  },
  {
   "cell_type": "code",
   "execution_count": 168,
   "metadata": {},
   "outputs": [
    {
     "name": "stdout",
     "output_type": "stream",
     "text": [
      "Channel CNN is published at 2005-10-02T16:06:36Z\n",
      "Here is the description avaiable at the channel page on youtube \n",
      "\n",
      "CNN operates as a division of Turner Broadcasting System, which is a subsidiary of Warner Media. CNN identifies itself as -- and is widely known to be - the ...\n"
     ]
    }
   ],
   "source": [
    "print(\"Channel \"+snippets['items'][0]['snippet']['title'] +\" is published at \"+snippets['items'][0]['snippet']['publishedAt'])\n",
    "print(\"Here is the description avaiable at the channel page on youtube \\n\")\n",
    "print(snippets['items'][0]['snippet']['description'])"
   ]
  },
  {
   "cell_type": "markdown",
   "metadata": {},
   "source": [
    "### Analyzing the statistics of the Channel "
   ]
  },
  {
   "cell_type": "code",
   "execution_count": 169,
   "metadata": {},
   "outputs": [],
   "source": [
    "# \"channelId\" is the information you can get all the details of the total subscribers, views, videos uploaded, likes/dislikes, etc. of the channel."
   ]
  },
  {
   "cell_type": "code",
   "execution_count": 170,
   "metadata": {},
   "outputs": [],
   "source": [
    "stats = youtube.channels().list(part=\"statistics\", id = channelId).execute()"
   ]
  },
  {
   "cell_type": "code",
   "execution_count": 171,
   "metadata": {},
   "outputs": [
    {
     "data": {
      "text/plain": [
       "[{'kind': 'youtube#channel',\n",
       "  'etag': 'h96JGk2eAjE9FTmI-pMBwFuErno',\n",
       "  'id': 'UCupvZG-5ko_eiXAupbDfxWw',\n",
       "  'statistics': {'viewCount': '7823952100',\n",
       "   'commentCount': '0',\n",
       "   'subscriberCount': '10800000',\n",
       "   'hiddenSubscriberCount': False,\n",
       "   'videoCount': '149476'}}]"
      ]
     },
     "execution_count": 171,
     "metadata": {},
     "output_type": "execute_result"
    }
   ],
   "source": [
    "stats['items']"
   ]
  },
  {
   "cell_type": "code",
   "execution_count": 172,
   "metadata": {},
   "outputs": [
    {
     "data": {
      "text/plain": [
       "{'kind': 'youtube#channelListResponse',\n",
       " 'etag': 'xY_SkWHZ1KTchp5Mb-W_obd_0Y8',\n",
       " 'pageInfo': {'resultsPerPage': 1},\n",
       " 'items': [{'kind': 'youtube#channel',\n",
       "   'etag': 'h96JGk2eAjE9FTmI-pMBwFuErno',\n",
       "   'id': 'UCupvZG-5ko_eiXAupbDfxWw',\n",
       "   'statistics': {'viewCount': '7823952100',\n",
       "    'commentCount': '0',\n",
       "    'subscriberCount': '10800000',\n",
       "    'hiddenSubscriberCount': False,\n",
       "    'videoCount': '149476'}}]}"
      ]
     },
     "execution_count": 172,
     "metadata": {},
     "output_type": "execute_result"
    }
   ],
   "source": [
    "stats"
   ]
  },
  {
   "cell_type": "code",
   "execution_count": 173,
   "metadata": {},
   "outputs": [
    {
     "name": "stdout",
     "output_type": "stream",
     "text": [
      "Total Number of Subscribers of CNN is 10800000\n",
      "Total Number of Videos Uploaded at CNN is 149476\n",
      "Total Number of view on all videos of CNN is 7823952100\n"
     ]
    }
   ],
   "source": [
    "print(\"Total Number of Subscribers of \"+snippets['items'][0]['snippet']['title'] + \" is \"+stats['items'][0]['statistics']['subscriberCount'])\n",
    "print(\"Total Number of Videos Uploaded at \"+snippets['items'][0]['snippet']['title'] + \" is \"+stats['items'][0]['statistics']['videoCount'])\n",
    "print(\"Total Number of view on all videos of \"+snippets['items'][0]['snippet']['title'] + \" is \"+stats['items'][0]['statistics']['viewCount'])"
   ]
  },
  {
   "cell_type": "markdown",
   "metadata": {},
   "source": [
    "### Analyzing the Content Details of the Channel "
   ]
  },
  {
   "cell_type": "code",
   "execution_count": 145,
   "metadata": {},
   "outputs": [
    {
     "name": "stdout",
     "output_type": "stream",
     "text": [
      "{'kind': 'youtube#channelListResponse', 'etag': 'NBiK7WEl8gBuzEYv0QH0tNCxFt8', 'pageInfo': {'resultsPerPage': 1}, 'items': [{'kind': 'youtube#channel', 'etag': 'E4-G6C63475dil5XKzfp34P3-Zc', 'id': 'UCupvZG-5ko_eiXAupbDfxWw', 'contentDetails': {'relatedPlaylists': {'likes': '', 'favorites': 'FLupvZG-5ko_eiXAupbDfxWw', 'uploads': 'UUupvZG-5ko_eiXAupbDfxWw', 'watchHistory': 'HL', 'watchLater': 'WL'}}}]}\n"
     ]
    }
   ],
   "source": [
    "content = youtube.channels().list(id = channelId, part = 'contentDetails').execute()\n",
    "print(content)"
   ]
  },
  {
   "cell_type": "code",
   "execution_count": 146,
   "metadata": {},
   "outputs": [
    {
     "data": {
      "text/plain": [
       "[{'kind': 'youtube#channel',\n",
       "  'etag': 'E4-G6C63475dil5XKzfp34P3-Zc',\n",
       "  'id': 'UCupvZG-5ko_eiXAupbDfxWw',\n",
       "  'contentDetails': {'relatedPlaylists': {'likes': '',\n",
       "    'favorites': 'FLupvZG-5ko_eiXAupbDfxWw',\n",
       "    'uploads': 'UUupvZG-5ko_eiXAupbDfxWw',\n",
       "    'watchHistory': 'HL',\n",
       "    'watchLater': 'WL'}}}]"
      ]
     },
     "execution_count": 146,
     "metadata": {},
     "output_type": "execute_result"
    }
   ],
   "source": [
    "content['items']"
   ]
  },
  {
   "cell_type": "code",
   "execution_count": 147,
   "metadata": {},
   "outputs": [
    {
     "name": "stdout",
     "output_type": "stream",
     "text": [
      "The Id of the upload playlist of this channel UUupvZG-5ko_eiXAupbDfxWw .In this playlist all the uploaded videos by this channels.\n"
     ]
    }
   ],
   "source": [
    "UploadId = content['items'][0]['contentDetails']['relatedPlaylists']['uploads']\n",
    "print(\"The Id of the upload playlist of this channel \"+UploadId+\" .In this playlist all the uploaded videos by this channels.\")"
   ]
  },
  {
   "cell_type": "markdown",
   "metadata": {},
   "source": [
    "### Get all videos "
   ]
  },
  {
   "cell_type": "code",
   "execution_count": 148,
   "metadata": {},
   "outputs": [],
   "source": [
    "# declare an empty list where we will store the information retrievd of all the uploaded videos on the channel\n",
    "\n",
    "allVideos = []"
   ]
  },
  {
   "cell_type": "code",
   "execution_count": 149,
   "metadata": {},
   "outputs": [],
   "source": [
    "nextPage_token = None"
   ]
  },
  {
   "cell_type": "code",
   "execution_count": 150,
   "metadata": {},
   "outputs": [],
   "source": [
    "res = youtube.playlistItems().list(playlistId = UploadId,maxResults = 50,part = 'snippet',pageToken = nextPage_token).execute()"
   ]
  },
  {
   "cell_type": "code",
   "execution_count": 151,
   "metadata": {},
   "outputs": [
    {
     "name": "stderr",
     "output_type": "stream",
     "text": [
      "IOPub data rate exceeded.\n",
      "The notebook server will temporarily stop sending output\n",
      "to the client in order to avoid crashing it.\n",
      "To change this limit, set the config variable\n",
      "`--NotebookApp.iopub_data_rate_limit`.\n",
      "\n",
      "Current values:\n",
      "NotebookApp.iopub_data_rate_limit=1000000.0 (bytes/sec)\n",
      "NotebookApp.rate_limit_window=3.0 (secs)\n",
      "\n"
     ]
    }
   ],
   "source": [
    "while 1:\n",
    "  res = youtube.playlistItems().list(playlistId = UploadId,maxResults = 50,part = 'snippet',pageToken = nextPage_token).execute()\n",
    "\n",
    "  allVideos += res['items']\n",
    "\n",
    "  nextPage_token = res.get('nextPageToken')\n",
    "\n",
    "  if nextPage_token is  None:\n",
    "    break\n",
    "\n",
    "print(allVideos)"
   ]
  },
  {
   "cell_type": "code",
   "execution_count": 152,
   "metadata": {},
   "outputs": [
    {
     "data": {
      "text/plain": [
       "20000"
      ]
     },
     "execution_count": 152,
     "metadata": {},
     "output_type": "execute_result"
    }
   ],
   "source": [
    "len(allVideos)"
   ]
  },
  {
   "cell_type": "code",
   "execution_count": 153,
   "metadata": {},
   "outputs": [
    {
     "name": "stdout",
     "output_type": "stream",
     "text": [
      "total number of videos uploaded on this channel is  20000\n"
     ]
    }
   ],
   "source": [
    "print(\"total number of videos uploaded on this channel is \", len(allVideos))"
   ]
  },
  {
   "cell_type": "code",
   "execution_count": 154,
   "metadata": {},
   "outputs": [
    {
     "data": {
      "text/plain": [
       "{'publishedAt': '2020-10-10T02:48:11Z',\n",
       " 'channelId': 'UCupvZG-5ko_eiXAupbDfxWw',\n",
       " 'title': 'New details emerge about plot to kidnap Michigan governor',\n",
       " 'description': \"New details emerge about the men accused in in an alleged domestic terrorism plot to kidnap Michigan Democratic Gov. Gretchen Whitmer, including a history of anti-government views and calls for violence and bloodshed. CNN's Sara Sidner has the details.\\n\\n#CNN #News\",\n",
       " 'thumbnails': {'default': {'url': 'https://i.ytimg.com/vi/RXvH0leEaEs/default.jpg',\n",
       "   'width': 120,\n",
       "   'height': 90},\n",
       "  'medium': {'url': 'https://i.ytimg.com/vi/RXvH0leEaEs/mqdefault.jpg',\n",
       "   'width': 320,\n",
       "   'height': 180},\n",
       "  'high': {'url': 'https://i.ytimg.com/vi/RXvH0leEaEs/hqdefault.jpg',\n",
       "   'width': 480,\n",
       "   'height': 360},\n",
       "  'standard': {'url': 'https://i.ytimg.com/vi/RXvH0leEaEs/sddefault.jpg',\n",
       "   'width': 640,\n",
       "   'height': 480},\n",
       "  'maxres': {'url': 'https://i.ytimg.com/vi/RXvH0leEaEs/maxresdefault.jpg',\n",
       "   'width': 1280,\n",
       "   'height': 720}},\n",
       " 'channelTitle': 'CNN',\n",
       " 'playlistId': 'UUupvZG-5ko_eiXAupbDfxWw',\n",
       " 'position': 0,\n",
       " 'resourceId': {'kind': 'youtube#video', 'videoId': 'RXvH0leEaEs'}}"
      ]
     },
     "execution_count": 154,
     "metadata": {},
     "output_type": "execute_result"
    }
   ],
   "source": [
    "allVideos[0]['snippet']"
   ]
  },
  {
   "cell_type": "code",
   "execution_count": 155,
   "metadata": {},
   "outputs": [
    {
     "name": "stdout",
     "output_type": "stream",
     "text": [
      "Display the information related to the latest uploaded video on the channel\n",
      "\n",
      "Title of latest video uploaded: New details emerge about plot to kidnap Michigan governor\n",
      "The latest video uploaded on date: 2020-10-10T02:48:11Z\n"
     ]
    }
   ],
   "source": [
    "print(\"Display the information related to the latest uploaded video on the channel\\n\")\n",
    "print(\"Title of latest video uploaded: \"+ allVideos[0]['snippet']['title'])\n",
    "print(\"The latest video uploaded on date: \"+allVideos[0]['snippet']['publishedAt'])"
   ]
  },
  {
   "cell_type": "markdown",
   "metadata": {},
   "source": [
    "###  Retrieve the video IDs of all the videos"
   ]
  },
  {
   "cell_type": "code",
   "execution_count": 156,
   "metadata": {},
   "outputs": [],
   "source": [
    "# present the statistics of all the videos, including total likes/dislikes, comments, views on the video "
   ]
  },
  {
   "cell_type": "code",
   "execution_count": 157,
   "metadata": {},
   "outputs": [
    {
     "name": "stdout",
     "output_type": "stream",
     "text": [
      "20000\n"
     ]
    }
   ],
   "source": [
    "video_ids = list(map(lambda x:x['snippet']['resourceId']['videoId'], allVideos))\n",
    "print(len(video_ids))"
   ]
  },
  {
   "cell_type": "code",
   "execution_count": 158,
   "metadata": {},
   "outputs": [
    {
     "name": "stderr",
     "output_type": "stream",
     "text": [
      "IOPub data rate exceeded.\n",
      "The notebook server will temporarily stop sending output\n",
      "to the client in order to avoid crashing it.\n",
      "To change this limit, set the config variable\n",
      "`--NotebookApp.iopub_data_rate_limit`.\n",
      "\n",
      "Current values:\n",
      "NotebookApp.iopub_data_rate_limit=1000000.0 (bytes/sec)\n",
      "NotebookApp.rate_limit_window=3.0 (secs)\n",
      "\n"
     ]
    }
   ],
   "source": [
    "stats = []\n",
    "for i in range(0, len(video_ids), 40):\n",
    "  res = (youtube).videos().list(id=','.join(video_ids[i:i+40]),part='statistics').execute()\n",
    "  stats += res['items']\n",
    "print(stats)"
   ]
  },
  {
   "cell_type": "markdown",
   "metadata": {},
   "source": [
    "### Save the data in CSV file"
   ]
  },
  {
   "cell_type": "code",
   "execution_count": 159,
   "metadata": {},
   "outputs": [],
   "source": [
    "# retrieving the content details of all the videos \n",
    "# store them in lists \n",
    "# save it to a csv file"
   ]
  },
  {
   "cell_type": "code",
   "execution_count": 160,
   "metadata": {},
   "outputs": [],
   "source": [
    "title=[ ]\n",
    "liked=[ ]\n",
    "disliked=[ ]\n",
    "views=[ ]\n",
    "url=[ ]\n",
    "comment=[ ]\n",
    "videoid = []\n",
    "publishedDate = []\n",
    "video_description = []"
   ]
  },
  {
   "cell_type": "code",
   "execution_count": 161,
   "metadata": {},
   "outputs": [
    {
     "ename": "KeyError",
     "evalue": "'commentCount'",
     "output_type": "error",
     "traceback": [
      "\u001b[0;31m---------------------------------------------------------------------------\u001b[0m",
      "\u001b[0;31mKeyError\u001b[0m                                  Traceback (most recent call last)",
      "\u001b[0;32m<ipython-input-161-350ae39d6659>\u001b[0m in \u001b[0;36m<module>\u001b[0;34m\u001b[0m\n\u001b[1;32m      8\u001b[0m   \u001b[0mdisliked\u001b[0m\u001b[0;34m.\u001b[0m\u001b[0mappend\u001b[0m\u001b[0;34m(\u001b[0m\u001b[0mint\u001b[0m\u001b[0;34m(\u001b[0m\u001b[0;34m(\u001b[0m\u001b[0mstats\u001b[0m\u001b[0;34m[\u001b[0m\u001b[0mi\u001b[0m\u001b[0;34m]\u001b[0m\u001b[0;34m)\u001b[0m\u001b[0;34m[\u001b[0m\u001b[0;34m'statistics'\u001b[0m\u001b[0;34m]\u001b[0m\u001b[0;34m[\u001b[0m\u001b[0;34m'dislikeCount'\u001b[0m\u001b[0;34m]\u001b[0m\u001b[0;34m)\u001b[0m\u001b[0;34m)\u001b[0m\u001b[0;34m\u001b[0m\u001b[0;34m\u001b[0m\u001b[0m\n\u001b[1;32m      9\u001b[0m   \u001b[0mviews\u001b[0m\u001b[0;34m.\u001b[0m\u001b[0mappend\u001b[0m\u001b[0;34m(\u001b[0m\u001b[0mint\u001b[0m\u001b[0;34m(\u001b[0m\u001b[0;34m(\u001b[0m\u001b[0mstats\u001b[0m\u001b[0;34m[\u001b[0m\u001b[0mi\u001b[0m\u001b[0;34m]\u001b[0m\u001b[0;34m)\u001b[0m\u001b[0;34m[\u001b[0m\u001b[0;34m'statistics'\u001b[0m\u001b[0;34m]\u001b[0m\u001b[0;34m[\u001b[0m\u001b[0;34m'viewCount'\u001b[0m\u001b[0;34m]\u001b[0m\u001b[0;34m)\u001b[0m\u001b[0;34m)\u001b[0m\u001b[0;34m\u001b[0m\u001b[0;34m\u001b[0m\u001b[0m\n\u001b[0;32m---> 10\u001b[0;31m   \u001b[0mcomment\u001b[0m\u001b[0;34m.\u001b[0m\u001b[0mappend\u001b[0m\u001b[0;34m(\u001b[0m\u001b[0mint\u001b[0m\u001b[0;34m(\u001b[0m\u001b[0;34m(\u001b[0m\u001b[0mstats\u001b[0m\u001b[0;34m[\u001b[0m\u001b[0mi\u001b[0m\u001b[0;34m]\u001b[0m\u001b[0;34m)\u001b[0m\u001b[0;34m[\u001b[0m\u001b[0;34m'statistics'\u001b[0m\u001b[0;34m]\u001b[0m\u001b[0;34m[\u001b[0m\u001b[0;34m'commentCount'\u001b[0m\u001b[0;34m]\u001b[0m\u001b[0;34m)\u001b[0m\u001b[0;34m)\u001b[0m\u001b[0;34m\u001b[0m\u001b[0;34m\u001b[0m\u001b[0m\n\u001b[0m\u001b[1;32m     11\u001b[0m   \u001b[0mvideoid\u001b[0m\u001b[0;34m.\u001b[0m\u001b[0mappend\u001b[0m\u001b[0;34m(\u001b[0m\u001b[0mallVideos\u001b[0m\u001b[0;34m[\u001b[0m\u001b[0mi\u001b[0m\u001b[0;34m]\u001b[0m\u001b[0;34m[\u001b[0m\u001b[0;34m'snippet'\u001b[0m\u001b[0;34m]\u001b[0m\u001b[0;34m[\u001b[0m\u001b[0;34m'resourceId'\u001b[0m\u001b[0;34m]\u001b[0m\u001b[0;34m[\u001b[0m\u001b[0;34m'videoId'\u001b[0m\u001b[0;34m]\u001b[0m\u001b[0;34m)\u001b[0m\u001b[0;34m\u001b[0m\u001b[0;34m\u001b[0m\u001b[0m\n",
      "\u001b[0;31mKeyError\u001b[0m: 'commentCount'"
     ]
    }
   ],
   "source": [
    "for i in range(0,19999):\n",
    "  # print(i)\n",
    "  i += 1\n",
    "  title.append((allVideos[i])['snippet']['title'])\n",
    "  publishedDate.append((allVideos[i])['snippet']['publishedAt'])\n",
    "  video_description.append((allVideos[i])['snippet']['description'])\n",
    "  liked.append(int((stats[i])['statistics']['likeCount']))\n",
    "  disliked.append(int((stats[i])['statistics']['dislikeCount']))\n",
    "  views.append(int((stats[i])['statistics']['viewCount']))\n",
    "  comment.append(int((stats[i])['statistics']['commentCount']))\n",
    "  videoid.append(allVideos[i]['snippet']['resourceId']['videoId'])"
   ]
  },
  {
   "cell_type": "code",
   "execution_count": 124,
   "metadata": {},
   "outputs": [
    {
     "data": {
      "text/html": [
       "<div>\n",
       "<style scoped>\n",
       "    .dataframe tbody tr th:only-of-type {\n",
       "        vertical-align: middle;\n",
       "    }\n",
       "\n",
       "    .dataframe tbody tr th {\n",
       "        vertical-align: top;\n",
       "    }\n",
       "\n",
       "    .dataframe thead th {\n",
       "        text-align: right;\n",
       "    }\n",
       "</style>\n",
       "<table border=\"1\" class=\"dataframe\">\n",
       "  <thead>\n",
       "    <tr style=\"text-align: right;\">\n",
       "      <th></th>\n",
       "      <th>title</th>\n",
       "      <th>videoIDS</th>\n",
       "      <th>video_description</th>\n",
       "      <th>publishedDate</th>\n",
       "      <th>likes</th>\n",
       "      <th>dislikes</th>\n",
       "      <th>views</th>\n",
       "      <th>comment</th>\n",
       "    </tr>\n",
       "  </thead>\n",
       "  <tbody>\n",
       "    <tr>\n",
       "      <th>0</th>\n",
       "      <td>El violador eres tú | Jéssica Fillol | TEDxVit...</td>\n",
       "      <td>gmNxydO9RwY</td>\n",
       "      <td>Jéssica Fillol nos da pistas sobre quién comet...</td>\n",
       "      <td>2020-10-09T16:28:29Z</td>\n",
       "      <td>12</td>\n",
       "      <td>9</td>\n",
       "      <td>392</td>\n",
       "      <td>4</td>\n",
       "    </tr>\n",
       "    <tr>\n",
       "      <th>1</th>\n",
       "      <td>Bettering the Creative Industries of Tomorrow ...</td>\n",
       "      <td>G_HxjtZTe-o</td>\n",
       "      <td>After forming Chase and Status, Will decided t...</td>\n",
       "      <td>2020-10-09T16:10:51Z</td>\n",
       "      <td>28</td>\n",
       "      <td>2</td>\n",
       "      <td>542</td>\n",
       "      <td>8</td>\n",
       "    </tr>\n",
       "    <tr>\n",
       "      <th>2</th>\n",
       "      <td>Kõiki kaasav disain | Daniel Kotsjuba | TEDxTa...</td>\n",
       "      <td>BWsbL8rAWRI</td>\n",
       "      <td>Igal inimesel on elu jooksul mõni erivajadus: ...</td>\n",
       "      <td>2020-10-09T14:52:44Z</td>\n",
       "      <td>7</td>\n",
       "      <td>0</td>\n",
       "      <td>401</td>\n",
       "      <td>1</td>\n",
       "    </tr>\n",
       "    <tr>\n",
       "      <th>3</th>\n",
       "      <td>Igaühe looduskaitse | Aveliina Helm | TEDxTallinn</td>\n",
       "      <td>bGraMnn-PS8</td>\n",
       "      <td>Maailma elurikkuse seis on täna lausa katastro...</td>\n",
       "      <td>2020-10-09T14:52:31Z</td>\n",
       "      <td>19</td>\n",
       "      <td>0</td>\n",
       "      <td>249</td>\n",
       "      <td>0</td>\n",
       "    </tr>\n",
       "    <tr>\n",
       "      <th>4</th>\n",
       "      <td>Rebirth | 子丰 戢 | TEDxYongqingSt</td>\n",
       "      <td>XiX6Q2373Ho</td>\n",
       "      <td>All presuppositions are unimportant because we...</td>\n",
       "      <td>2020-10-09T14:51:22Z</td>\n",
       "      <td>29</td>\n",
       "      <td>0</td>\n",
       "      <td>212</td>\n",
       "      <td>1</td>\n",
       "    </tr>\n",
       "  </tbody>\n",
       "</table>\n",
       "</div>"
      ],
      "text/plain": [
       "                                               title     videoIDS  \\\n",
       "0  El violador eres tú | Jéssica Fillol | TEDxVit...  gmNxydO9RwY   \n",
       "1  Bettering the Creative Industries of Tomorrow ...  G_HxjtZTe-o   \n",
       "2  Kõiki kaasav disain | Daniel Kotsjuba | TEDxTa...  BWsbL8rAWRI   \n",
       "3  Igaühe looduskaitse | Aveliina Helm | TEDxTallinn  bGraMnn-PS8   \n",
       "4                    Rebirth | 子丰 戢 | TEDxYongqingSt  XiX6Q2373Ho   \n",
       "\n",
       "                                   video_description         publishedDate  \\\n",
       "0  Jéssica Fillol nos da pistas sobre quién comet...  2020-10-09T16:28:29Z   \n",
       "1  After forming Chase and Status, Will decided t...  2020-10-09T16:10:51Z   \n",
       "2  Igal inimesel on elu jooksul mõni erivajadus: ...  2020-10-09T14:52:44Z   \n",
       "3  Maailma elurikkuse seis on täna lausa katastro...  2020-10-09T14:52:31Z   \n",
       "4  All presuppositions are unimportant because we...  2020-10-09T14:51:22Z   \n",
       "\n",
       "   likes  dislikes  views  comment  \n",
       "0     12         9    392        4  \n",
       "1     28         2    542        8  \n",
       "2      7         0    401        1  \n",
       "3     19         0    249        0  \n",
       "4     29         0    212        1  "
      ]
     },
     "execution_count": 124,
     "metadata": {},
     "output_type": "execute_result"
    }
   ],
   "source": [
    "import pandas as pd\n",
    "data={'title':title,'videoIDS':videoid,'video_description':video_description,'publishedDate':publishedDate,'likes':liked,'dislikes':disliked,'views':views,'comment':comment}\n",
    "df=pd.DataFrame(data)\n",
    "df.head()"
   ]
  },
  {
   "cell_type": "code",
   "execution_count": 125,
   "metadata": {},
   "outputs": [],
   "source": [
    "df.to_csv('ExtractedData.csv',index = False)"
   ]
  },
  {
   "cell_type": "code",
   "execution_count": 126,
   "metadata": {},
   "outputs": [
    {
     "data": {
      "text/plain": [
       "'El violador eres tú | Jéssica Fillol | TEDxVitoriaGasteiz'"
      ]
     },
     "execution_count": 126,
     "metadata": {},
     "output_type": "execute_result"
    }
   ],
   "source": [
    "df['title'].iloc[0]"
   ]
  },
  {
   "cell_type": "markdown",
   "metadata": {},
   "source": [
    "### EDA"
   ]
  },
  {
   "cell_type": "code",
   "execution_count": 127,
   "metadata": {},
   "outputs": [
    {
     "data": {
      "text/html": [
       "<div>\n",
       "<style scoped>\n",
       "    .dataframe tbody tr th:only-of-type {\n",
       "        vertical-align: middle;\n",
       "    }\n",
       "\n",
       "    .dataframe tbody tr th {\n",
       "        vertical-align: top;\n",
       "    }\n",
       "\n",
       "    .dataframe thead th {\n",
       "        text-align: right;\n",
       "    }\n",
       "</style>\n",
       "<table border=\"1\" class=\"dataframe\">\n",
       "  <thead>\n",
       "    <tr style=\"text-align: right;\">\n",
       "      <th></th>\n",
       "      <th>title</th>\n",
       "      <th>videoIDS</th>\n",
       "      <th>video_description</th>\n",
       "      <th>publishedDate</th>\n",
       "      <th>likes</th>\n",
       "      <th>dislikes</th>\n",
       "      <th>views</th>\n",
       "      <th>comment</th>\n",
       "    </tr>\n",
       "  </thead>\n",
       "  <tbody>\n",
       "    <tr>\n",
       "      <th>0</th>\n",
       "      <td>El violador eres tú | Jéssica Fillol | TEDxVit...</td>\n",
       "      <td>gmNxydO9RwY</td>\n",
       "      <td>Jéssica Fillol nos da pistas sobre quién comet...</td>\n",
       "      <td>2020-10-09T16:28:29Z</td>\n",
       "      <td>12</td>\n",
       "      <td>9</td>\n",
       "      <td>392</td>\n",
       "      <td>4</td>\n",
       "    </tr>\n",
       "    <tr>\n",
       "      <th>1</th>\n",
       "      <td>Bettering the Creative Industries of Tomorrow ...</td>\n",
       "      <td>G_HxjtZTe-o</td>\n",
       "      <td>After forming Chase and Status, Will decided t...</td>\n",
       "      <td>2020-10-09T16:10:51Z</td>\n",
       "      <td>28</td>\n",
       "      <td>2</td>\n",
       "      <td>542</td>\n",
       "      <td>8</td>\n",
       "    </tr>\n",
       "    <tr>\n",
       "      <th>2</th>\n",
       "      <td>Kõiki kaasav disain | Daniel Kotsjuba | TEDxTa...</td>\n",
       "      <td>BWsbL8rAWRI</td>\n",
       "      <td>Igal inimesel on elu jooksul mõni erivajadus: ...</td>\n",
       "      <td>2020-10-09T14:52:44Z</td>\n",
       "      <td>7</td>\n",
       "      <td>0</td>\n",
       "      <td>401</td>\n",
       "      <td>1</td>\n",
       "    </tr>\n",
       "    <tr>\n",
       "      <th>3</th>\n",
       "      <td>Igaühe looduskaitse | Aveliina Helm | TEDxTallinn</td>\n",
       "      <td>bGraMnn-PS8</td>\n",
       "      <td>Maailma elurikkuse seis on täna lausa katastro...</td>\n",
       "      <td>2020-10-09T14:52:31Z</td>\n",
       "      <td>19</td>\n",
       "      <td>0</td>\n",
       "      <td>249</td>\n",
       "      <td>0</td>\n",
       "    </tr>\n",
       "    <tr>\n",
       "      <th>4</th>\n",
       "      <td>Rebirth | 子丰 戢 | TEDxYongqingSt</td>\n",
       "      <td>XiX6Q2373Ho</td>\n",
       "      <td>All presuppositions are unimportant because we...</td>\n",
       "      <td>2020-10-09T14:51:22Z</td>\n",
       "      <td>29</td>\n",
       "      <td>0</td>\n",
       "      <td>212</td>\n",
       "      <td>1</td>\n",
       "    </tr>\n",
       "  </tbody>\n",
       "</table>\n",
       "</div>"
      ],
      "text/plain": [
       "                                               title     videoIDS  \\\n",
       "0  El violador eres tú | Jéssica Fillol | TEDxVit...  gmNxydO9RwY   \n",
       "1  Bettering the Creative Industries of Tomorrow ...  G_HxjtZTe-o   \n",
       "2  Kõiki kaasav disain | Daniel Kotsjuba | TEDxTa...  BWsbL8rAWRI   \n",
       "3  Igaühe looduskaitse | Aveliina Helm | TEDxTallinn  bGraMnn-PS8   \n",
       "4                    Rebirth | 子丰 戢 | TEDxYongqingSt  XiX6Q2373Ho   \n",
       "\n",
       "                                   video_description         publishedDate  \\\n",
       "0  Jéssica Fillol nos da pistas sobre quién comet...  2020-10-09T16:28:29Z   \n",
       "1  After forming Chase and Status, Will decided t...  2020-10-09T16:10:51Z   \n",
       "2  Igal inimesel on elu jooksul mõni erivajadus: ...  2020-10-09T14:52:44Z   \n",
       "3  Maailma elurikkuse seis on täna lausa katastro...  2020-10-09T14:52:31Z   \n",
       "4  All presuppositions are unimportant because we...  2020-10-09T14:51:22Z   \n",
       "\n",
       "   likes  dislikes  views  comment  \n",
       "0     12         9    392        4  \n",
       "1     28         2    542        8  \n",
       "2      7         0    401        1  \n",
       "3     19         0    249        0  \n",
       "4     29         0    212        1  "
      ]
     },
     "execution_count": 127,
     "metadata": {},
     "output_type": "execute_result"
    }
   ],
   "source": [
    "data = pd.read_csv(\"ExtractedData.csv\")\n",
    "data.head()"
   ]
  },
  {
   "cell_type": "code",
   "execution_count": 128,
   "metadata": {},
   "outputs": [
    {
     "name": "stdout",
     "output_type": "stream",
     "text": [
      "total number of videos uploaded on the channel: 50\n"
     ]
    }
   ],
   "source": [
    "print(\"total number of videos uploaded on the channel: \"+str(data.shape[0]))"
   ]
  },
  {
   "cell_type": "code",
   "execution_count": 130,
   "metadata": {},
   "outputs": [
    {
     "data": {
      "text/plain": [
       "False    50\n",
       "Name: videoIDS, dtype: int64"
      ]
     },
     "execution_count": 130,
     "metadata": {},
     "output_type": "execute_result"
    }
   ],
   "source": [
    "data.videoIDS.isnull().value_counts()"
   ]
  },
  {
   "cell_type": "code",
   "execution_count": 131,
   "metadata": {},
   "outputs": [
    {
     "name": "stdout",
     "output_type": "stream",
     "text": [
      "<class 'pandas.core.frame.DataFrame'>\n",
      "RangeIndex: 50 entries, 0 to 49\n",
      "Data columns (total 8 columns):\n",
      "title                50 non-null object\n",
      "videoIDS             50 non-null object\n",
      "video_description    50 non-null object\n",
      "publishedDate        50 non-null object\n",
      "likes                50 non-null int64\n",
      "dislikes             50 non-null int64\n",
      "views                50 non-null int64\n",
      "comment              50 non-null int64\n",
      "dtypes: int64(4), object(4)\n",
      "memory usage: 3.2+ KB\n"
     ]
    }
   ],
   "source": [
    "data.info()"
   ]
  },
  {
   "cell_type": "code",
   "execution_count": 132,
   "metadata": {},
   "outputs": [
    {
     "data": {
      "text/html": [
       "<div>\n",
       "<style scoped>\n",
       "    .dataframe tbody tr th:only-of-type {\n",
       "        vertical-align: middle;\n",
       "    }\n",
       "\n",
       "    .dataframe tbody tr th {\n",
       "        vertical-align: top;\n",
       "    }\n",
       "\n",
       "    .dataframe thead th {\n",
       "        text-align: right;\n",
       "    }\n",
       "</style>\n",
       "<table border=\"1\" class=\"dataframe\">\n",
       "  <thead>\n",
       "    <tr style=\"text-align: right;\">\n",
       "      <th></th>\n",
       "      <th>likes</th>\n",
       "      <th>dislikes</th>\n",
       "      <th>views</th>\n",
       "      <th>comment</th>\n",
       "    </tr>\n",
       "  </thead>\n",
       "  <tbody>\n",
       "    <tr>\n",
       "      <th>count</th>\n",
       "      <td>50.000000</td>\n",
       "      <td>50.000000</td>\n",
       "      <td>50.000000</td>\n",
       "      <td>50.000000</td>\n",
       "    </tr>\n",
       "    <tr>\n",
       "      <th>mean</th>\n",
       "      <td>56.460000</td>\n",
       "      <td>3.780000</td>\n",
       "      <td>1743.080000</td>\n",
       "      <td>7.080000</td>\n",
       "    </tr>\n",
       "    <tr>\n",
       "      <th>std</th>\n",
       "      <td>141.972433</td>\n",
       "      <td>14.701506</td>\n",
       "      <td>5582.020064</td>\n",
       "      <td>21.644474</td>\n",
       "    </tr>\n",
       "    <tr>\n",
       "      <th>min</th>\n",
       "      <td>0.000000</td>\n",
       "      <td>0.000000</td>\n",
       "      <td>93.000000</td>\n",
       "      <td>0.000000</td>\n",
       "    </tr>\n",
       "    <tr>\n",
       "      <th>25%</th>\n",
       "      <td>9.500000</td>\n",
       "      <td>0.000000</td>\n",
       "      <td>229.500000</td>\n",
       "      <td>0.250000</td>\n",
       "    </tr>\n",
       "    <tr>\n",
       "      <th>50%</th>\n",
       "      <td>23.500000</td>\n",
       "      <td>0.000000</td>\n",
       "      <td>377.000000</td>\n",
       "      <td>2.000000</td>\n",
       "    </tr>\n",
       "    <tr>\n",
       "      <th>75%</th>\n",
       "      <td>43.500000</td>\n",
       "      <td>1.000000</td>\n",
       "      <td>916.250000</td>\n",
       "      <td>4.000000</td>\n",
       "    </tr>\n",
       "    <tr>\n",
       "      <th>max</th>\n",
       "      <td>767.000000</td>\n",
       "      <td>94.000000</td>\n",
       "      <td>28869.000000</td>\n",
       "      <td>140.000000</td>\n",
       "    </tr>\n",
       "  </tbody>\n",
       "</table>\n",
       "</div>"
      ],
      "text/plain": [
       "            likes   dislikes         views     comment\n",
       "count   50.000000  50.000000     50.000000   50.000000\n",
       "mean    56.460000   3.780000   1743.080000    7.080000\n",
       "std    141.972433  14.701506   5582.020064   21.644474\n",
       "min      0.000000   0.000000     93.000000    0.000000\n",
       "25%      9.500000   0.000000    229.500000    0.250000\n",
       "50%     23.500000   0.000000    377.000000    2.000000\n",
       "75%     43.500000   1.000000    916.250000    4.000000\n",
       "max    767.000000  94.000000  28869.000000  140.000000"
      ]
     },
     "execution_count": 132,
     "metadata": {},
     "output_type": "execute_result"
    }
   ],
   "source": [
    "data.describe()"
   ]
  },
  {
   "cell_type": "code",
   "execution_count": 133,
   "metadata": {},
   "outputs": [
    {
     "name": "stdout",
     "output_type": "stream",
     "text": [
      "Maxium number of likes on videos are  767\n",
      "Maxium number of dislikes on videos are  94\n",
      "Maxium number of view on videos are  28869\n",
      "Maxium number of comments on videos are  140\n"
     ]
    }
   ],
   "source": [
    "print(\"Maxium number of likes on videos are \",data['likes'].max())\n",
    "print(\"Maxium number of dislikes on videos are \",data['dislikes'].max())\n",
    "print(\"Maxium number of view on videos are \",data['views'].max())\n",
    "print(\"Maxium number of comments on videos are \",data['comment'].max())"
   ]
  },
  {
   "cell_type": "markdown",
   "metadata": {},
   "source": [
    "### Sort the videos on the basis of likes i.e. most liked video will appear at last"
   ]
  },
  {
   "cell_type": "code",
   "execution_count": 87,
   "metadata": {},
   "outputs": [],
   "source": [
    "data_liked = data.sort_values(by = 'likes',axis = 0,ascending = False)"
   ]
  },
  {
   "cell_type": "code",
   "execution_count": 88,
   "metadata": {},
   "outputs": [
    {
     "data": {
      "text/html": [
       "<div>\n",
       "<style scoped>\n",
       "    .dataframe tbody tr th:only-of-type {\n",
       "        vertical-align: middle;\n",
       "    }\n",
       "\n",
       "    .dataframe tbody tr th {\n",
       "        vertical-align: top;\n",
       "    }\n",
       "\n",
       "    .dataframe thead th {\n",
       "        text-align: right;\n",
       "    }\n",
       "</style>\n",
       "<table border=\"1\" class=\"dataframe\">\n",
       "  <thead>\n",
       "    <tr style=\"text-align: right;\">\n",
       "      <th></th>\n",
       "      <th>title</th>\n",
       "      <th>videoIDS</th>\n",
       "      <th>video_description</th>\n",
       "      <th>publishedDate</th>\n",
       "      <th>likes</th>\n",
       "      <th>dislikes</th>\n",
       "      <th>views</th>\n",
       "      <th>comment</th>\n",
       "    </tr>\n",
       "  </thead>\n",
       "  <tbody>\n",
       "    <tr>\n",
       "      <th>79</th>\n",
       "      <td>Data Science in 30 Minutes: Predicting Content...</td>\n",
       "      <td>D0B1JZMCMLo</td>\n",
       "      <td>Netflix is well-known for its data-driven reco...</td>\n",
       "      <td>2017-03-01T18:59:41Z</td>\n",
       "      <td>227</td>\n",
       "      <td>10</td>\n",
       "      <td>18586</td>\n",
       "      <td>6</td>\n",
       "    </tr>\n",
       "    <tr>\n",
       "      <th>29</th>\n",
       "      <td>Data Science in 30 Minutes: Predicting Content...</td>\n",
       "      <td>D0B1JZMCMLo</td>\n",
       "      <td>Netflix is well-known for its data-driven reco...</td>\n",
       "      <td>2017-03-01T18:59:41Z</td>\n",
       "      <td>227</td>\n",
       "      <td>10</td>\n",
       "      <td>18586</td>\n",
       "      <td>6</td>\n",
       "    </tr>\n",
       "    <tr>\n",
       "      <th>93</th>\n",
       "      <td>Data Science in 30 Minutes #4: Reinforcement L...</td>\n",
       "      <td>aAdD2XRC044</td>\n",
       "      <td>In June 2016, Former Data Incubator Fellow Bri...</td>\n",
       "      <td>2016-03-29T14:53:58Z</td>\n",
       "      <td>191</td>\n",
       "      <td>5</td>\n",
       "      <td>18677</td>\n",
       "      <td>7</td>\n",
       "    </tr>\n",
       "    <tr>\n",
       "      <th>43</th>\n",
       "      <td>Data Science in 30 Minutes #4: Reinforcement L...</td>\n",
       "      <td>aAdD2XRC044</td>\n",
       "      <td>In June 2016, Former Data Incubator Fellow Bri...</td>\n",
       "      <td>2016-03-29T14:53:58Z</td>\n",
       "      <td>191</td>\n",
       "      <td>5</td>\n",
       "      <td>18677</td>\n",
       "      <td>7</td>\n",
       "    </tr>\n",
       "    <tr>\n",
       "      <th>99</th>\n",
       "      <td>Data Science in 30 Minutes #1</td>\n",
       "      <td>Zfhc6GQ84e4</td>\n",
       "      <td>In this lecture, we did a demo of some of the ...</td>\n",
       "      <td>2015-10-05T16:40:15Z</td>\n",
       "      <td>154</td>\n",
       "      <td>3</td>\n",
       "      <td>15244</td>\n",
       "      <td>3</td>\n",
       "    </tr>\n",
       "  </tbody>\n",
       "</table>\n",
       "</div>"
      ],
      "text/plain": [
       "                                                title     videoIDS  \\\n",
       "79  Data Science in 30 Minutes: Predicting Content...  D0B1JZMCMLo   \n",
       "29  Data Science in 30 Minutes: Predicting Content...  D0B1JZMCMLo   \n",
       "93  Data Science in 30 Minutes #4: Reinforcement L...  aAdD2XRC044   \n",
       "43  Data Science in 30 Minutes #4: Reinforcement L...  aAdD2XRC044   \n",
       "99                      Data Science in 30 Minutes #1  Zfhc6GQ84e4   \n",
       "\n",
       "                                    video_description         publishedDate  \\\n",
       "79  Netflix is well-known for its data-driven reco...  2017-03-01T18:59:41Z   \n",
       "29  Netflix is well-known for its data-driven reco...  2017-03-01T18:59:41Z   \n",
       "93  In June 2016, Former Data Incubator Fellow Bri...  2016-03-29T14:53:58Z   \n",
       "43  In June 2016, Former Data Incubator Fellow Bri...  2016-03-29T14:53:58Z   \n",
       "99  In this lecture, we did a demo of some of the ...  2015-10-05T16:40:15Z   \n",
       "\n",
       "    likes  dislikes  views  comment  \n",
       "79    227        10  18586        6  \n",
       "29    227        10  18586        6  \n",
       "93    191         5  18677        7  \n",
       "43    191         5  18677        7  \n",
       "99    154         3  15244        3  "
      ]
     },
     "execution_count": 88,
     "metadata": {},
     "output_type": "execute_result"
    }
   ],
   "source": [
    "data_liked.head()"
   ]
  },
  {
   "cell_type": "markdown",
   "metadata": {},
   "source": [
    "### Etract the details of the most liked videos,most comment videos, videos with highest view"
   ]
  },
  {
   "cell_type": "code",
   "execution_count": 91,
   "metadata": {},
   "outputs": [],
   "source": [
    "most_likedID = data['likes'].idxmax()\n",
    "most_viewdID = data['views'].idxmax()\n",
    "most_commentID = data['comment'].idxmax()"
   ]
  },
  {
   "cell_type": "code",
   "execution_count": 92,
   "metadata": {},
   "outputs": [
    {
     "data": {
      "text/plain": [
       "<bound method NDFrame.head of title                Data Science in 30 Minutes: Predicting Content...\n",
       "videoIDS                                                   D0B1JZMCMLo\n",
       "video_description    Netflix is well-known for its data-driven reco...\n",
       "publishedDate                                     2017-03-01T18:59:41Z\n",
       "likes                                                              227\n",
       "dislikes                                                            10\n",
       "views                                                            18586\n",
       "comment                                                              6\n",
       "Name: 29, dtype: object>"
      ]
     },
     "execution_count": 92,
     "metadata": {},
     "output_type": "execute_result"
    }
   ],
   "source": [
    "data.iloc[most_likedID].head"
   ]
  },
  {
   "cell_type": "code",
   "execution_count": 93,
   "metadata": {},
   "outputs": [
    {
     "data": {
      "text/plain": [
       "title                Data Science in 30 Minutes #4: Reinforcement L...\n",
       "videoIDS                                                   aAdD2XRC044\n",
       "video_description    In June 2016, Former Data Incubator Fellow Bri...\n",
       "publishedDate                                     2016-03-29T14:53:58Z\n",
       "likes                                                              191\n",
       "dislikes                                                             5\n",
       "views                                                            18677\n",
       "comment                                                              7\n",
       "Name: 43, dtype: object"
      ]
     },
     "execution_count": 93,
     "metadata": {},
     "output_type": "execute_result"
    }
   ],
   "source": [
    "data.iloc[most_viewdID]"
   ]
  },
  {
   "cell_type": "code",
   "execution_count": 94,
   "metadata": {},
   "outputs": [
    {
     "data": {
      "text/plain": [
       "title                Data Science in 30 Minutes #3: Holt-Winters an...\n",
       "videoIDS                                                   cqSFTaFQxKo\n",
       "video_description    Isaiah Yoo, former fellow now at Truveris, spo...\n",
       "publishedDate                                     2016-03-01T16:32:58Z\n",
       "likes                                                               63\n",
       "dislikes                                                             1\n",
       "views                                                            13537\n",
       "comment                                                             13\n",
       "Name: 47, dtype: object"
      ]
     },
     "execution_count": 94,
     "metadata": {},
     "output_type": "execute_result"
    }
   ],
   "source": [
    "data.iloc[most_commentID]"
   ]
  },
  {
   "cell_type": "code",
   "execution_count": null,
   "metadata": {},
   "outputs": [],
   "source": []
  }
 ],
 "metadata": {
  "kernelspec": {
   "display_name": "Python 3",
   "language": "python",
   "name": "python3"
  },
  "language_info": {
   "codemirror_mode": {
    "name": "ipython",
    "version": 3
   },
   "file_extension": ".py",
   "mimetype": "text/x-python",
   "name": "python",
   "nbconvert_exporter": "python",
   "pygments_lexer": "ipython3",
   "version": "3.6.8"
  }
 },
 "nbformat": 4,
 "nbformat_minor": 2
}
